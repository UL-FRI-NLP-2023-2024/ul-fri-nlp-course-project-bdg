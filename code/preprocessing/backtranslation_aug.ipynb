{
 "cells": [
  {
   "cell_type": "markdown",
   "source": [
    "TESTING HOW BACKTRANSLATION WORKS"
   ],
   "metadata": {
    "collapsed": false
   },
   "id": "5c09134c79b1b0a9"
  },
  {
   "cell_type": "markdown",
   "source": [
    "USING GOOGLE API"
   ],
   "metadata": {
    "collapsed": false
   },
   "id": "7ea68576faf7b6af"
  },
  {
   "cell_type": "code",
   "execution_count": 4,
   "outputs": [
    {
     "name": "stdout",
     "output_type": "stream",
     "text": [
      "Original Sentence:  if not enough data will be gathered, we will have to tranlate some sentances from english.\n",
      "Improved Sentence:  If there is not enough information, we will have to translate some of the sentences from English.\n",
      "Translated Sentence:  Če ne bo dovolj podatkov, bomo morali prevesti nekaj stavkov iz angleščine.\n"
     ]
    }
   ],
   "source": [
    "from BackTranslation import BackTranslation\n",
    "\n",
    "trans = BackTranslation(url=['translate.google.com', 'translate.google.co.kr'],\n",
    "                        proxies={'http': '127.0.0.1:1234', 'host.name': '127.0.0.1:4012'})\n",
    "\n",
    "\n",
    "original_sentence = \"if not enough data will be gathered, we will have to tranlate some sentances from english.\"\n",
    "\n",
    "result = trans.translate(original_sentence, src='en', tmp='sl')\n",
    "improved_sentence = result.result_text\n",
    "translated_sentence = result.tran_text\n",
    "\n",
    "print(\"Original Sentence: \", original_sentence)\n",
    "print(\"Improved Sentence: \", improved_sentence)\n",
    "print(\"Translated Sentence: \", translated_sentence)\n",
    "\n",
    "\n",
    "original_sl = \"France Prešeren se je rodil v Vrbi.\""
   ],
   "metadata": {
    "collapsed": false,
    "ExecuteTime": {
     "end_time": "2024-04-11T12:11:50.131689300Z",
     "start_time": "2024-04-11T12:11:47.639834Z"
    }
   },
   "id": "670a2d398bfb5622"
  },
  {
   "cell_type": "markdown",
   "source": [
    "CREATE MORE SYNTHETIC DATA USING DATA AUGMENTATION: https://github.com/makcedward/nlpaug "
   ],
   "metadata": {
    "collapsed": false
   },
   "id": "4eed87e3b8b40a3b"
  },
  {
   "cell_type": "code",
   "execution_count": 3,
   "outputs": [
    {
     "data": {
      "text/plain": "tokenizer_config.json:   0%|          | 0.00/48.0 [00:00<?, ?B/s]",
      "application/vnd.jupyter.widget-view+json": {
       "version_major": 2,
       "version_minor": 0,
       "model_id": "df2d2351b82f4384bc33f27833ebebe1"
      },
      "application/json": {
       "n": 0,
       "total": 48,
       "elapsed": 0.006795644760131836,
       "ncols": null,
       "nrows": null,
       "prefix": "tokenizer_config.json",
       "ascii": false,
       "unit": "B",
       "unit_scale": true,
       "rate": null,
       "bar_format": null,
       "postfix": null,
       "unit_divisor": 1000,
       "initial": 0,
       "colour": null
      }
     },
     "metadata": {},
     "output_type": "display_data"
    },
    {
     "name": "stderr",
     "output_type": "stream",
     "text": [
      "C:\\Users\\Bine\\Desktop\\FAKS\\MAGISTERIJ-1\\SEMESTER-2\\NLP\\PROJECT\\venv\\lib\\site-packages\\huggingface_hub\\file_download.py:148: UserWarning: `huggingface_hub` cache-system uses symlinks by default to efficiently store duplicated files but your machine does not support them in C:\\Users\\Bine\\.cache\\huggingface\\hub\\models--bert-base-multilingual-uncased. Caching files will still work but in a degraded version that might require more space on your disk. This warning can be disabled by setting the `HF_HUB_DISABLE_SYMLINKS_WARNING` environment variable. For more details, see https://huggingface.co/docs/huggingface_hub/how-to-cache#limitations.\n",
      "To support symlinks on Windows, you either need to activate Developer Mode or to run Python as an administrator. In order to see activate developer mode, see this article: https://docs.microsoft.com/en-us/windows/apps/get-started/enable-your-device-for-development\n",
      "  warnings.warn(message)\n"
     ]
    },
    {
     "data": {
      "text/plain": "config.json:   0%|          | 0.00/625 [00:00<?, ?B/s]",
      "application/vnd.jupyter.widget-view+json": {
       "version_major": 2,
       "version_minor": 0,
       "model_id": "77f39486877d4b40bb3b50843cc9792a"
      },
      "application/json": {
       "n": 0,
       "total": 625,
       "elapsed": 0.0040247440338134766,
       "ncols": null,
       "nrows": null,
       "prefix": "config.json",
       "ascii": false,
       "unit": "B",
       "unit_scale": true,
       "rate": null,
       "bar_format": null,
       "postfix": null,
       "unit_divisor": 1000,
       "initial": 0,
       "colour": null
      }
     },
     "metadata": {},
     "output_type": "display_data"
    },
    {
     "data": {
      "text/plain": "vocab.txt:   0%|          | 0.00/872k [00:00<?, ?B/s]",
      "application/vnd.jupyter.widget-view+json": {
       "version_major": 2,
       "version_minor": 0,
       "model_id": "e6cd58e3a9a44152aea7d53798a5cb26"
      },
      "application/json": {
       "n": 0,
       "total": 871891,
       "elapsed": 0.005011796951293945,
       "ncols": null,
       "nrows": null,
       "prefix": "vocab.txt",
       "ascii": false,
       "unit": "B",
       "unit_scale": true,
       "rate": null,
       "bar_format": null,
       "postfix": null,
       "unit_divisor": 1000,
       "initial": 0,
       "colour": null
      }
     },
     "metadata": {},
     "output_type": "display_data"
    },
    {
     "data": {
      "text/plain": "tokenizer.json:   0%|          | 0.00/1.72M [00:00<?, ?B/s]",
      "application/vnd.jupyter.widget-view+json": {
       "version_major": 2,
       "version_minor": 0,
       "model_id": "e63254a4d5214876a04c0e08812099a1"
      },
      "application/json": {
       "n": 0,
       "total": 1715180,
       "elapsed": 0.004644155502319336,
       "ncols": null,
       "nrows": null,
       "prefix": "tokenizer.json",
       "ascii": false,
       "unit": "B",
       "unit_scale": true,
       "rate": null,
       "bar_format": null,
       "postfix": null,
       "unit_divisor": 1000,
       "initial": 0,
       "colour": null
      }
     },
     "metadata": {},
     "output_type": "display_data"
    },
    {
     "data": {
      "text/plain": "model.safetensors:   0%|          | 0.00/672M [00:00<?, ?B/s]",
      "application/vnd.jupyter.widget-view+json": {
       "version_major": 2,
       "version_minor": 0,
       "model_id": "16cd0d3fc285442e906a04830918cde4"
      },
      "application/json": {
       "n": 0,
       "total": 672247920,
       "elapsed": 0.006613492965698242,
       "ncols": null,
       "nrows": null,
       "prefix": "model.safetensors",
       "ascii": false,
       "unit": "B",
       "unit_scale": true,
       "rate": null,
       "bar_format": null,
       "postfix": null,
       "unit_divisor": 1000,
       "initial": 0,
       "colour": null
      }
     },
     "metadata": {},
     "output_type": "display_data"
    },
    {
     "name": "stdout",
     "output_type": "stream",
     "text": [
      "Original:\n",
      "Pes in mačka živita na kmetiji.\n",
      "Augmented Text:\n",
      "['pes in macka sta sami kmetiji.']\n"
     ]
    }
   ],
   "source": [
    "import os\n",
    "import nlpaug.augmenter.char as nac\n",
    "import nlpaug.augmenter.word as naw\n",
    "import nlpaug.augmenter.sentence as nas\n",
    "import nlpaug.flow as nafc\n",
    "import nltk \n",
    "\n",
    "from nlpaug.util import Action\n",
    "\n",
    "aug = naw.ContextualWordEmbsAug(model_path='bert-base-multilingual-uncased', aug_p=0.1)\n",
    "text = \"Pes in mačka živita na kmetiji.\"\n",
    "augmented_text = aug.augment(text)\n",
    "print(\"Original:\")\n",
    "print(text)\n",
    "print(\"Augmented Text:\")\n",
    "print(augmented_text)"
   ],
   "metadata": {
    "collapsed": false,
    "ExecuteTime": {
     "end_time": "2024-04-18T15:56:05.753103500Z",
     "start_time": "2024-04-18T15:49:17.921784400Z"
    }
   },
   "id": "70a1741afab33676"
  },
  {
   "cell_type": "code",
   "execution_count": null,
   "outputs": [],
   "source": [],
   "metadata": {
    "collapsed": false
   },
   "id": "a1a0a26a7f37607c"
  }
 ],
 "metadata": {
  "kernelspec": {
   "display_name": "Python 3",
   "language": "python",
   "name": "python3"
  },
  "language_info": {
   "codemirror_mode": {
    "name": "ipython",
    "version": 2
   },
   "file_extension": ".py",
   "mimetype": "text/x-python",
   "name": "python",
   "nbconvert_exporter": "python",
   "pygments_lexer": "ipython2",
   "version": "2.7.6"
  }
 },
 "nbformat": 4,
 "nbformat_minor": 5
}
